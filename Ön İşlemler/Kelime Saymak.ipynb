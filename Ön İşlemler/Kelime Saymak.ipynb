{
 "cells": [
  {
   "cell_type": "markdown",
   "metadata": {},
   "source": [
    "# Kelime Saymak"
   ]
  },
  {
   "cell_type": "code",
   "execution_count": 1,
   "metadata": {},
   "outputs": [],
   "source": [
    "import string\n",
    "from collections import Counter"
   ]
  },
  {
   "cell_type": "markdown",
   "metadata": {},
   "source": [
    "* Bu text içerisinde noktalama işaretleri yoktur.\n",
    "* Bütün harfler küçüktür.\n",
    "* Her cümle yeni bir satırla ayrılmıştır."
   ]
  },
  {
   "cell_type": "code",
   "execution_count": 2,
   "metadata": {
    "scrolled": false
   },
   "outputs": [
    {
     "data": {
      "text/plain": [
       "\"Türk Kurtuluş Savaşı sürecinde Ankara Hükûmeti'ni kurdu, Türk Orduları Başkomutanı olarak Sakarya Meydan Muharebesi'ndeki başarısından dolayı 19 Eylül 1921 tarihinde 'Gazi' unvanını aldı ve mareşalliğe yükseldi; askerî ve siyasi eylemleriyle İtilaf Devletleri ve onların iş birlikçilerine karşı zafer kazandı. Savaşın ardından Cumhuriyet Halk Partisi'ni Halk Fırkası adıyla kurdu ve ilk genel başkanı oldu. 29 Ekim 1923'te cumhuriyetin ilanının akabinde cumhurbaşkanı seçildi. 1938'deki ölümüne dek dört dönem bu görevi yürüterek Türkiye'de en uzun süre cumhurbaşkanlığı yapmış kişi oldu.\""
      ]
     },
     "execution_count": 2,
     "metadata": {},
     "output_type": "execute_result"
    }
   ],
   "source": [
    "text = \"Türk Kurtuluş Savaşı sürecinde Ankara Hükûmeti'ni kurdu, Türk Orduları Başkomutanı olarak Sakarya Meydan Muharebesi'ndeki başarısından dolayı 19 Eylül 1921 tarihinde 'Gazi' unvanını aldı ve mareşalliğe yükseldi; askerî ve siyasi eylemleriyle İtilaf Devletleri ve onların iş birlikçilerine karşı zafer kazandı. Savaşın ardından Cumhuriyet Halk Partisi'ni Halk Fırkası adıyla kurdu ve ilk genel başkanı oldu. 29 Ekim 1923'te cumhuriyetin ilanının akabinde cumhurbaşkanı seçildi. 1938'deki ölümüne dek dört dönem bu görevi yürüterek Türkiye'de en uzun süre cumhurbaşkanlığı yapmış kişi oldu.\"\n",
    "text"
   ]
  },
  {
   "cell_type": "markdown",
   "metadata": {},
   "source": [
    "* Hepsini küçük harflere dönüştürüyoruz."
   ]
  },
  {
   "cell_type": "code",
   "execution_count": 3,
   "metadata": {},
   "outputs": [
    {
     "data": {
      "text/plain": [
       "\"türk kurtuluş savaşı sürecinde ankara hükûmeti'ni kurdu, türk orduları başkomutanı olarak sakarya meydan muharebesi'ndeki başarısından dolayı 19 eylül 1921 tarihinde 'gazi' unvanını aldı ve mareşalliğe yükseldi; askerî ve siyasi eylemleriyle i̇tilaf devletleri ve onların iş birlikçilerine karşı zafer kazandı. savaşın ardından cumhuriyet halk partisi'ni halk fırkası adıyla kurdu ve ilk genel başkanı oldu. 29 ekim 1923'te cumhuriyetin ilanının akabinde cumhurbaşkanı seçildi. 1938'deki ölümüne dek dört dönem bu görevi yürüterek türkiye'de en uzun süre cumhurbaşkanlığı yapmış kişi oldu.\""
      ]
     },
     "execution_count": 3,
     "metadata": {},
     "output_type": "execute_result"
    }
   ],
   "source": [
    "text = text.lower()\n",
    "text"
   ]
  },
  {
   "cell_type": "markdown",
   "metadata": {},
   "source": [
    "* Noktalama işaretlerini kaldırıyoruz."
   ]
  },
  {
   "cell_type": "code",
   "execution_count": 4,
   "metadata": {},
   "outputs": [
    {
     "name": "stdout",
     "output_type": "stream",
     "text": [
      "türk kurtuluş savaşı sürecinde ankara hükûmetini kurdu türk orduları başkomutanı olarak sakarya meydan muharebesindeki başarısından dolayı 19 eylül 1921 tarihinde gazi unvanını aldı ve mareşalliğe yükseldi askerî ve siyasi eylemleriyle i̇tilaf devletleri ve onların iş birlikçilerine karşı zafer kazandı savaşın ardından cumhuriyet halk partisini halk fırkası adıyla kurdu ve ilk genel başkanı oldu 29 ekim 1923te cumhuriyetin ilanının akabinde cumhurbaşkanı seçildi 1938deki ölümüne dek dört dönem bu görevi yürüterek türkiyede en uzun süre cumhurbaşkanlığı yapmış kişi oldu\n"
     ]
    }
   ],
   "source": [
    "def remove_punctuation(text):\n",
    "    no_punc = [words for words in text if words not in string.punctuation]\n",
    "    word_wo_punc = \"\".join(no_punc)\n",
    "    return word_wo_punc\n",
    "\n",
    "text = remove_punctuation(text)\n",
    "print(text)"
   ]
  },
  {
   "cell_type": "markdown",
   "metadata": {},
   "source": [
    "* Numerik karakterleri kaldırıyoruz."
   ]
  },
  {
   "cell_type": "code",
   "execution_count": 5,
   "metadata": {},
   "outputs": [
    {
     "name": "stdout",
     "output_type": "stream",
     "text": [
      "türk kurtuluş savaşı sürecinde ankara hükûmetini kurdu türk orduları başkomutanı olarak sakarya meydan muharebesindeki başarısından dolayı  eylül  tarihinde gazi unvanını aldı ve mareşalliğe yükseldi askerî ve siyasi eylemleriyle i̇tilaf devletleri ve onların iş birlikçilerine karşı zafer kazandı savaşın ardından cumhuriyet halk partisini halk fırkası adıyla kurdu ve ilk genel başkanı oldu  ekim te cumhuriyetin ilanının akabinde cumhurbaşkanı seçildi deki ölümüne dek dört dönem bu görevi yürüterek türkiyede en uzun süre cumhurbaşkanlığı yapmış kişi oldu\n"
     ]
    }
   ],
   "source": [
    "def remove_numeric(corpus):\n",
    "    output = \"\".join(words for words in corpus if not words.isdigit())\n",
    "    return output\n",
    "\n",
    "text = remove_numeric(text)\n",
    "print(text)"
   ]
  },
  {
   "cell_type": "markdown",
   "metadata": {},
   "source": [
    "* Kelimelere bölümleme yapıyoruz."
   ]
  },
  {
   "cell_type": "code",
   "execution_count": 6,
   "metadata": {},
   "outputs": [
    {
     "data": {
      "text/plain": [
       "['türk',\n",
       " 'kurtuluş',\n",
       " 'savaşı',\n",
       " 'sürecinde',\n",
       " 'ankara',\n",
       " 'hükûmetini',\n",
       " 'kurdu',\n",
       " 'türk',\n",
       " 'orduları',\n",
       " 'başkomutanı',\n",
       " 'olarak',\n",
       " 'sakarya',\n",
       " 'meydan',\n",
       " 'muharebesindeki',\n",
       " 'başarısından',\n",
       " 'dolayı',\n",
       " 'eylül',\n",
       " 'tarihinde',\n",
       " 'gazi',\n",
       " 'unvanını',\n",
       " 'aldı',\n",
       " 've',\n",
       " 'mareşalliğe',\n",
       " 'yükseldi',\n",
       " 'askerî',\n",
       " 've',\n",
       " 'siyasi',\n",
       " 'eylemleriyle',\n",
       " 'i̇tilaf',\n",
       " 'devletleri',\n",
       " 've',\n",
       " 'onların',\n",
       " 'iş',\n",
       " 'birlikçilerine',\n",
       " 'karşı',\n",
       " 'zafer',\n",
       " 'kazandı',\n",
       " 'savaşın',\n",
       " 'ardından',\n",
       " 'cumhuriyet',\n",
       " 'halk',\n",
       " 'partisini',\n",
       " 'halk',\n",
       " 'fırkası',\n",
       " 'adıyla',\n",
       " 'kurdu',\n",
       " 've',\n",
       " 'ilk',\n",
       " 'genel',\n",
       " 'başkanı',\n",
       " 'oldu',\n",
       " 'ekim',\n",
       " 'te',\n",
       " 'cumhuriyetin',\n",
       " 'ilanının',\n",
       " 'akabinde',\n",
       " 'cumhurbaşkanı',\n",
       " 'seçildi',\n",
       " 'deki',\n",
       " 'ölümüne',\n",
       " 'dek',\n",
       " 'dört',\n",
       " 'dönem',\n",
       " 'bu',\n",
       " 'görevi',\n",
       " 'yürüterek',\n",
       " 'türkiyede',\n",
       " 'en',\n",
       " 'uzun',\n",
       " 'süre',\n",
       " 'cumhurbaşkanlığı',\n",
       " 'yapmış',\n",
       " 'kişi',\n",
       " 'oldu']"
      ]
     },
     "execution_count": 6,
     "metadata": {},
     "output_type": "execute_result"
    }
   ],
   "source": [
    "words = text.split()\n",
    "words"
   ]
  },
  {
   "cell_type": "markdown",
   "metadata": {},
   "source": [
    "* Kelime çantası oluşturulur."
   ]
  },
  {
   "cell_type": "code",
   "execution_count": 7,
   "metadata": {},
   "outputs": [
    {
     "data": {
      "text/plain": [
       "Counter({'türk': 2,\n",
       "         'kurtuluş': 1,\n",
       "         'savaşı': 1,\n",
       "         'sürecinde': 1,\n",
       "         'ankara': 1,\n",
       "         'hükûmetini': 1,\n",
       "         'kurdu': 2,\n",
       "         'orduları': 1,\n",
       "         'başkomutanı': 1,\n",
       "         'olarak': 1,\n",
       "         'sakarya': 1,\n",
       "         'meydan': 1,\n",
       "         'muharebesindeki': 1,\n",
       "         'başarısından': 1,\n",
       "         'dolayı': 1,\n",
       "         'eylül': 1,\n",
       "         'tarihinde': 1,\n",
       "         'gazi': 1,\n",
       "         'unvanını': 1,\n",
       "         'aldı': 1,\n",
       "         've': 4,\n",
       "         'mareşalliğe': 1,\n",
       "         'yükseldi': 1,\n",
       "         'askerî': 1,\n",
       "         'siyasi': 1,\n",
       "         'eylemleriyle': 1,\n",
       "         'i̇tilaf': 1,\n",
       "         'devletleri': 1,\n",
       "         'onların': 1,\n",
       "         'iş': 1,\n",
       "         'birlikçilerine': 1,\n",
       "         'karşı': 1,\n",
       "         'zafer': 1,\n",
       "         'kazandı': 1,\n",
       "         'savaşın': 1,\n",
       "         'ardından': 1,\n",
       "         'cumhuriyet': 1,\n",
       "         'halk': 2,\n",
       "         'partisini': 1,\n",
       "         'fırkası': 1,\n",
       "         'adıyla': 1,\n",
       "         'ilk': 1,\n",
       "         'genel': 1,\n",
       "         'başkanı': 1,\n",
       "         'oldu': 2,\n",
       "         'ekim': 1,\n",
       "         'te': 1,\n",
       "         'cumhuriyetin': 1,\n",
       "         'ilanının': 1,\n",
       "         'akabinde': 1,\n",
       "         'cumhurbaşkanı': 1,\n",
       "         'seçildi': 1,\n",
       "         'deki': 1,\n",
       "         'ölümüne': 1,\n",
       "         'dek': 1,\n",
       "         'dört': 1,\n",
       "         'dönem': 1,\n",
       "         'bu': 1,\n",
       "         'görevi': 1,\n",
       "         'yürüterek': 1,\n",
       "         'türkiyede': 1,\n",
       "         'en': 1,\n",
       "         'uzun': 1,\n",
       "         'süre': 1,\n",
       "         'cumhurbaşkanlığı': 1,\n",
       "         'yapmış': 1,\n",
       "         'kişi': 1})"
      ]
     },
     "execution_count": 7,
     "metadata": {},
     "output_type": "execute_result"
    }
   ],
   "source": [
    "word_count = Counter(words)\n",
    "word_count"
   ]
  },
  {
   "cell_type": "markdown",
   "metadata": {},
   "source": [
    "* En sık geçen 3 kelimeye göz atıyoruz."
   ]
  },
  {
   "cell_type": "code",
   "execution_count": 8,
   "metadata": {},
   "outputs": [
    {
     "name": "stdout",
     "output_type": "stream",
     "text": [
      "('ve', 4)\n",
      "('türk', 2)\n",
      "('kurdu', 2)\n"
     ]
    }
   ],
   "source": [
    "for word in word_count.most_common(3):\n",
    "    print(word)"
   ]
  },
  {
   "cell_type": "markdown",
   "metadata": {},
   "source": [
    "* \"türk\" kelimesinin kaç kez geçtiğine bakıyoruz."
   ]
  },
  {
   "cell_type": "code",
   "execution_count": 9,
   "metadata": {},
   "outputs": [
    {
     "data": {
      "text/plain": [
       "2"
      ]
     },
     "execution_count": 9,
     "metadata": {},
     "output_type": "execute_result"
    }
   ],
   "source": [
    "word_count[\"türk\"]"
   ]
  },
  {
   "cell_type": "code",
   "execution_count": null,
   "metadata": {},
   "outputs": [],
   "source": []
  }
 ],
 "metadata": {
  "kernelspec": {
   "display_name": "Python 3",
   "language": "python",
   "name": "python3"
  },
  "language_info": {
   "codemirror_mode": {
    "name": "ipython",
    "version": 3
   },
   "file_extension": ".py",
   "mimetype": "text/x-python",
   "name": "python",
   "nbconvert_exporter": "python",
   "pygments_lexer": "ipython3",
   "version": "3.8.5"
  },
  "nbTranslate": {
   "displayLangs": [
    "*"
   ],
   "hotkey": "alt-t",
   "langInMainMenu": true,
   "sourceLang": "en",
   "targetLang": "fr",
   "useGoogleTranslate": true
  }
 },
 "nbformat": 4,
 "nbformat_minor": 4
}
